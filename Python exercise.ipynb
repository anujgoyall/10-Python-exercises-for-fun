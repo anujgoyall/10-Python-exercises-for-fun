{
  "nbformat": 4,
  "nbformat_minor": 0,
  "metadata": {
    "colab": {
      "name": "Untitled24.ipynb",
      "provenance": []
    },
    "kernelspec": {
      "name": "python3",
      "display_name": "Python 3"
    }
  },
  "cells": [
    {
      "cell_type": "code",
      "metadata": {
        "id": "4Ir0Aqhgt5CX",
        "colab": {
          "base_uri": "https://localhost:8080/"
        },
        "outputId": "60e4d645-3ab7-495a-f071-3efdb2b2c1f4"
      },
      "source": [
        "# 1. Email Slicer with Python\r\n",
        "email = input(\"Enter Your Email: \").strip()\r\n",
        "username = email[:email.index(\"@\")]\r\n",
        "domain_name = email[email.index(\"@\")+1:]\r\n",
        "format_ = (f\"Your user name is '{username}' and your domain is '{domain_name}'\")\r\n",
        "print(format_)"
      ],
      "execution_count": 18,
      "outputs": [
        {
          "output_type": "stream",
          "text": [
            "Enter Your Email: Rock@Jumanji.com\n",
            "Your user name is 'Rock' and your domain is 'Jumanji.com'\n"
          ],
          "name": "stdout"
        }
      ]
    },
    {
      "cell_type": "code",
      "metadata": {
        "colab": {
          "base_uri": "https://localhost:8080/"
        },
        "id": "ZykMGeX5Zubs",
        "outputId": "09d89f27-a32f-4a57-8382-f38a41a7526c"
      },
      "source": [
        "# 2. Create Acronyms using Python\r\n",
        "user_input = str(input(\"Enter a Phrase: \"))\r\n",
        "text = user_input.split()\r\n",
        "a = \" \"\r\n",
        "for i in text:\r\n",
        "    a = a+str(i[0]).upper()\r\n",
        "print(a)"
      ],
      "execution_count": 17,
      "outputs": [
        {
          "output_type": "stream",
          "text": [
            "Enter a Phrase: What the Rock is cooking\n",
            " WTRIC\n"
          ],
          "name": "stdout"
        }
      ]
    },
    {
      "cell_type": "code",
      "metadata": {
        "colab": {
          "base_uri": "https://localhost:8080/"
        },
        "id": "AX5MnUNLZ8Ur",
        "outputId": "22dc1f8b-64b6-481d-d861-50dcdce152b7"
      },
      "source": [
        "#3. Story Generator with Python\r\n",
        "import random\r\n",
        "when = ['A few years ago', 'yesterday', 'last night', 'A long time ago', 'On 20th Jan']\r\n",
        "who = ['a rabbit', 'an elephant','a mouse', 'a turtle', 'a cat' ]\r\n",
        "name = ['Ali', 'Miriam','daniel', 'Hoouk', 'Starwalker']\r\n",
        "residence = ['Barcelona','India', 'Germany', 'Venice', 'England']\r\n",
        "went = ['cinema', 'university','seminar', 'school', 'laundry']\r\n",
        "happened = ['made a lot of friends','Eats a burger', 'found a secret key', 'solved a mistery', 'wrote a book']\r\n",
        "print(random.choice(when) + ', ' + random.choice(who) + ' ' + random.choice(name) + ' that lived in ' + random.choice(residence) + ', went to the ' + random.choice(went) + ' and ' + random.choice(happened))\r\n",
        "print(random.choice(when) + ', ' + random.choice(who) + ' ' + random.choice(name) + ' that lived in ' + random.choice(residence) + ', went to the ' + random.choice(went) + ' and ' + random.choice(happened))"
      ],
      "execution_count": 12,
      "outputs": [
        {
          "output_type": "stream",
          "text": [
            "yesterday, a cat Starwalker that lived in India, went to the seminar and wrote a book\n",
            "A long time ago, an elephant Hoouk that lived in Venice, went to the seminar and made a lot of friends\n"
          ],
          "name": "stdout"
        }
      ]
    },
    {
      "cell_type": "code",
      "metadata": {
        "colab": {
          "base_uri": "https://localhost:8080/"
        },
        "id": "Vrukgrh4clqN",
        "outputId": "cee28cc3-6c81-43ee-8a02-f0a09736bf18"
      },
      "source": [
        "# 4. How to genrate random password using python\r\n",
        "import random\r\n",
        "pwd_len = int(input(\"enter the length of password\"))\r\n",
        "s=\"abcdefghijklmnopqrstuvwxyz01234567890ABCDEFGHIJKLMNOPQRSTUVWXYZ!@#$%^&*()?\"\r\n",
        "p = \"\".join(random.sample(s,pwd_len ))\r\n",
        "print(p)"
      ],
      "execution_count": 19,
      "outputs": [
        {
          "output_type": "stream",
          "text": [
            "enter the length of password7\n",
            "dX5aNv3\n"
          ],
          "name": "stdout"
        }
      ]
    },
    {
      "cell_type": "code",
      "metadata": {
        "colab": {
          "base_uri": "https://localhost:8080/"
        },
        "id": "bh27XBaeeSKf",
        "outputId": "394f3f5f-831a-4507-f812-8fd01167cea3"
      },
      "source": [
        "# 5.  Convert the number to fizzbuzz if it is divisible by 3 & 5, convert to fizz if its divisible by 3 and Buzzif its divisible by 5\r\n",
        "\r\n",
        "numbers = [45, 22, 14, 65, 97, 72]\r\n",
        "for i in range(len(numbers)):\r\n",
        "  if numbers[i] % 3 == 0 and numbers[i] % 5 ==0:\r\n",
        "    numbers[i] = \"fizzbuzz\"\r\n",
        "  elif numbers[i] % 3 == 0:\r\n",
        "    numbers[i] = \"fizz\"\r\n",
        "  elif numbers[i] % 5 ==0:\r\n",
        "    numbers[i] = \"Buzz\"\r\n",
        "numbers        "
      ],
      "execution_count": 20,
      "outputs": [
        {
          "output_type": "execute_result",
          "data": {
            "text/plain": [
              "['fizzbuzz', 22, 14, 'Buzz', 97, 'fizz']"
            ]
          },
          "metadata": {
            "tags": []
          },
          "execution_count": 20
        }
      ]
    },
    {
      "cell_type": "code",
      "metadata": {
        "colab": {
          "base_uri": "https://localhost:8080/"
        },
        "id": "VghRkERZgp-2",
        "outputId": "7a3ac899-c401-4260-abca-7f14647d7e13"
      },
      "source": [
        "# 6. How to convert integers to Roman  numbers\r\n",
        "def into_roman(x):\r\n",
        "  numbers = [1, 4, 5,9, 10, 20, 40, 50, 90, 100, 200, 500, 1000]\r\n",
        "  roman = [\"I\",\"IV\",\"V\",\"IX\",\"X\",\"XX\",\"XL\",\"L\",\"XC\",\"C\",\"CC\",\"D\",\"M\"]\r\n",
        "  neum_rom = \" \"\r\n",
        "  i = 12\r\n",
        "  while x != 0:\r\n",
        "    if numbers[i] <= x :\r\n",
        "      neum_rom += roman[i]\r\n",
        "      x = x - numbers[i]\r\n",
        "    else:  \r\n",
        "      i = i- 1\r\n",
        "  return neum_rom\r\n",
        "\r\n",
        "print(into_roman(1249))      \r\n",
        "print(into_roman(1000)) "
      ],
      "execution_count": 22,
      "outputs": [
        {
          "output_type": "stream",
          "text": [
            " MCCXLIX\n",
            " M\n"
          ],
          "name": "stdout"
        }
      ]
    },
    {
      "cell_type": "code",
      "metadata": {
        "colab": {
          "base_uri": "https://localhost:8080/"
        },
        "id": "Hc6wDhX8iglj",
        "outputId": "401a06c8-5dba-47b2-fbef-c80dcf78f2ab"
      },
      "source": [
        "# 7 How can you initialize 5*5 NumPy array comprising of all zeros using np.zero method from numpy library\r\n",
        "\r\n",
        "import numpy as np\r\n",
        "a = np.zeros((5,5))\r\n",
        "a"
      ],
      "execution_count": 23,
      "outputs": [
        {
          "output_type": "execute_result",
          "data": {
            "text/plain": [
              "array([[0., 0., 0., 0., 0.],\n",
              "       [0., 0., 0., 0., 0.],\n",
              "       [0., 0., 0., 0., 0.],\n",
              "       [0., 0., 0., 0., 0.],\n",
              "       [0., 0., 0., 0., 0.]])"
            ]
          },
          "metadata": {
            "tags": []
          },
          "execution_count": 23
        }
      ]
    },
    {
      "cell_type": "code",
      "metadata": {
        "id": "XxJxkcsnj2OI"
      },
      "source": [
        "# 8. Rock, Paper Scissor Game with Python\r\n",
        "import random\r\n",
        "choices = [\"Rock\", \"Paper\", \"Scissors\"]\r\n",
        "computer = random.choice(choices)\r\n",
        "player = False\r\n",
        "cpu_score = 0\r\n",
        "player_score = 0\r\n",
        "while True:\r\n",
        "    player = input(\"Rock, Paper or  Scissors?\").capitalize()\r\n",
        "    ## Conditions of Rock,Paper and Scissors\r\n",
        "    if player == computer:\r\n",
        "        print(\"Tie!\")\r\n",
        "    elif player == \"Rock\":\r\n",
        "        if computer == \"Paper\":\r\n",
        "            print(\"You lose!\", computer, \"covers\", player)\r\n",
        "            cpu_score+=1\r\n",
        "        else:\r\n",
        "            print(\"You win!\", player, \"smashes\", computer)\r\n",
        "            player_score+=1\r\n",
        "    elif player == \"Paper\":\r\n",
        "        if computer == \"Scissors\":\r\n",
        "            print(\"You lose!\", computer, \"cut\", player)\r\n",
        "            cpu_score+=1\r\n",
        "        else:\r\n",
        "            print(\"You win!\", player, \"covers\", computer)\r\n",
        "            player_score+=1\r\n",
        "    elif player == \"Scissors\":\r\n",
        "        if computer == \"Rock\":\r\n",
        "            print(\"You lose...\", computer, \"smashes\", player)\r\n",
        "            cpu_score+=1\r\n",
        "        else:\r\n",
        "            print(\"You win!\", player, \"cut\", computer)\r\n",
        "            player_score+=1\r\n",
        "    elif player=='End':\r\n",
        "        print(\"Final Scores:\")\r\n",
        "        print(f\"CPU:{cpu_score}\")\r\n",
        "        print(f\"Player:{player_score}\")\r\n",
        "        break"
      ],
      "execution_count": null,
      "outputs": []
    },
    {
      "cell_type": "code",
      "metadata": {
        "id": "so9Bo32xjBN9"
      },
      "source": [
        "# 9. #importing module for random number generation\r\n",
        "import random\r\n",
        "\r\n",
        "#range of the values of a dice\r\n",
        "min_val = 1\r\n",
        "max_val = 6\r\n",
        "\r\n",
        "#to loop the rolling through user input\r\n",
        "roll_again = \"yes\"\r\n",
        "\r\n",
        "#loop\r\n",
        "while roll_again == \"yes\" or roll_again == \"y\":\r\n",
        "    print(\"Rolling The Dices...\")\r\n",
        "    print(\"The Values are :\")\r\n",
        "    \r\n",
        "    #generating and printing 1st random integer from 1 to 6\r\n",
        "    print(random.randint(min_val, max_val))\r\n",
        "    \r\n",
        "    #generating and printing 2nd random integer from 1 to 6\r\n",
        "    print(random.randint(min_val, max_val))\r\n",
        "    \r\n",
        "    #asking user to roll the dice again. Any input other than yes or y will terminate the loop\r\n",
        "    roll_again = input(\"Roll the Dices Again?\") \r\n"
      ],
      "execution_count": null,
      "outputs": []
    },
    {
      "cell_type": "code",
      "metadata": {
        "id": "mA5Qmm2tjuaM"
      },
      "source": [
        "#10. Create a quiz to guess animals\r\n",
        "def check_guess(guess, answer):\r\n",
        "    global score\r\n",
        "    still_guessing = True\r\n",
        "    attempt = 0\r\n",
        "    while still_guessing and attempt < 3:\r\n",
        "        if guess.lower() == answer.lower():\r\n",
        "            print(\"Correct Answer\")\r\n",
        "            score = score + 1\r\n",
        "            still_guessing = False\r\n",
        "        else:\r\n",
        "            if attempt < 2:\r\n",
        "                guess = input(\"Sorry Wrong Answer, try again\")\r\n",
        "            attempt = attempt + 1\r\n",
        "    if attempt == 3:\r\n",
        "        print(\"The Correct answer is \",answer )\r\n",
        "    \r\n",
        "score = 0\r\n",
        "print(\"Guess the Animal\")\r\n",
        "guess1 = input(\"Which bear lives at the North Pole? \")\r\n",
        "check_guess(guess1, \"polar bear\")\r\n",
        "guess2 = input(\"Which is the fastest land animal? \")\r\n",
        "check_guess(guess2, \"Cheetah\")\r\n",
        "guess3 = input(\"Which is the larget animal? \")\r\n",
        "check_guess(guess3, \"Blue Whale\")\r\n",
        "print(\"Your Score is \"+ str(score))"
      ],
      "execution_count": null,
      "outputs": []
    },
    {
      "cell_type": "code",
      "metadata": {
        "id": "uZkiPQPmkKw6"
      },
      "source": [
        ""
      ],
      "execution_count": null,
      "outputs": []
    }
  ]
}